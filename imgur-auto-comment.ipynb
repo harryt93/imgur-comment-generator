{
 "cells": [
  {
   "cell_type": "markdown",
   "metadata": {},
   "source": [
    "# Generate the Dataset"
   ]
  },
  {
   "cell_type": "markdown",
   "metadata": {},
   "source": [
    "### Connect to Imgur"
   ]
  },
  {
   "cell_type": "code",
   "execution_count": null,
   "metadata": {},
   "outputs": [],
   "source": [
    "from imgurpython import ImgurClient\n",
    "\n",
    "client_id = 'ea6214471d4bfd2'\n",
    "client_secret = 'c53450f034a96c24f461054f9bebb8c0c470de1e'\n",
    "\n",
    "client = ImgurClient(client_id, client_secret)"
   ]
  },
  {
   "cell_type": "markdown",
   "metadata": {},
   "source": [
    "### [Run to see remaining credits]"
   ]
  },
  {
   "cell_type": "code",
   "execution_count": null,
   "metadata": {},
   "outputs": [],
   "source": [
    "client.credits"
   ]
  },
  {
   "cell_type": "markdown",
   "metadata": {},
   "source": [
    "### Scrape Comments"
   ]
  },
  {
   "cell_type": "code",
   "execution_count": null,
   "metadata": {},
   "outputs": [],
   "source": [
    "user_list = [\"LBarto\", \"JCentauri\", \n",
    "            \"TheBestThingSinceJimboSlicedBread\", \"TheGrinningOwl\", \n",
    "            \"CrystalShipsCometh\", \"ArtOzz\", \n",
    "            \"notacobra\", \"HatsfordaEmprah\", \n",
    "            \"SpecialAgentCharlesCarmichael\", \"SneakyEmu\", \n",
    "            \"AssistantToTheRegionalManagerDwightSchrute\", \"ThreeBodyProblemOnlyWithDicksInstead\", \n",
    "            \"Tootersmcgooters\", \"thankgodfordeaddinosaurs\", \n",
    "            \"14November\", \"OliverClothesoff70\"]"
   ]
  },
  {
   "cell_type": "markdown",
   "metadata": {},
   "source": [
    "Run the block below to scrape and store comments for each of the users in the list above."
   ]
  },
  {
   "cell_type": "code",
   "execution_count": null,
   "metadata": {},
   "outputs": [],
   "source": [
    "for user in user_list:\n",
    "    \n",
    "    # Cancel if running out of credits.\n",
    "    if int(client.credits[\"UserRemaining\"]) <= 5:\n",
    "        print (\"Cancelling scrape. Not enough credits remaining.\")\n",
    "        break\n",
    "            \n",
    "    # Get the number of comments for the user.\n",
    "    num_comments = client.get_account_comment_count(user)\n",
    "    \n",
    "    # Calculate the number of pages.\n",
    "    num_pages = num_comments//50\n",
    "    \n",
    "    if num_pages > 50: num_pages = 50\n",
    "    \n",
    "    # Loop through all the users's pages.\n",
    "    for page in range(num_pages):\n",
    "        \n",
    "        if (page % 6) == 0:\n",
    "            trainortest = \"test\"\n",
    "        else:\n",
    "            trainortest = \"train\"\n",
    "        \n",
    "        # Print out progress.\n",
    "        print (f\"Scraping comments for {user}. Page {page}/{num_pages}. Placing into the {trainortest} set.\")\n",
    "        \n",
    "        # Cancel if running out of credits.\n",
    "        if int(client.credits[\"UserRemaining\"]) <= 5:\n",
    "            print (\"Cancelling scrape. Not enough credits remaining.\")\n",
    "            break\n",
    "        \n",
    "        # Get the comments for the current page.\n",
    "        comments = client.get_account_comments(user, page=page)\n",
    "\n",
    "        # Process the comments - Add <SOC to beginning, and <EOC> to the end of each comment.\n",
    "        processed_comments = []\n",
    "        for comment in comments:\n",
    "            processed_comment = \"SOC \" + comment.comment + \" EOC\"\n",
    "            processed_comments.append(processed_comment)\n",
    "\n",
    "        # Write the page to a text file.\n",
    "        with open(f\"data/imgur-comments/{trainortest}/{user}-{page}.txt\", \"w\") as text_file:\n",
    "            print(\" \".join(processed_comments), file=text_file)"
   ]
  },
  {
   "cell_type": "markdown",
   "metadata": {},
   "source": [
    "# Train a Language Model"
   ]
  },
  {
   "cell_type": "code",
   "execution_count": 1,
   "metadata": {},
   "outputs": [],
   "source": [
    "%reload_ext autoreload\n",
    "%autoreload 2\n",
    "%matplotlib inline"
   ]
  },
  {
   "cell_type": "code",
   "execution_count": 2,
   "metadata": {},
   "outputs": [],
   "source": [
    "from fastai.learner import *\n",
    "from fastai.rnn_reg import *\n",
    "from fastai.rnn_train import *\n",
    "from fastai.nlp import *\n",
    "from fastai.lm_rnn import *"
   ]
  },
  {
   "cell_type": "code",
   "execution_count": 3,
   "metadata": {},
   "outputs": [],
   "source": [
    "import random\n",
    "import spacy\n",
    "import untokenize\n",
    "import torchtext\n",
    "from torchtext import vocab, data\n",
    "from torchtext.datasets import language_modeling"
   ]
  },
  {
   "cell_type": "code",
   "execution_count": 4,
   "metadata": {},
   "outputs": [],
   "source": [
    "PATH = \"data/imgur-comments/\"\n",
    "\n",
    "TRN_PATH = \"train/\"\n",
    "VAL_PATH = \"test/\"\n",
    "\n",
    "TRN = f\"{PATH}{TRN_PATH}\"\n",
    "VAL = f\"{PATH}{VAL_PATH}\""
   ]
  },
  {
   "cell_type": "markdown",
   "metadata": {},
   "source": [
    "### Create the Data Loader"
   ]
  },
  {
   "cell_type": "code",
   "execution_count": 5,
   "metadata": {},
   "outputs": [],
   "source": [
    "TEXT = data.Field(lower=True, tokenize=\"spacy\")"
   ]
  },
  {
   "cell_type": "code",
   "execution_count": 6,
   "metadata": {},
   "outputs": [],
   "source": [
    "FILES = dict(train=TRN_PATH, validation=VAL_PATH, test=VAL_PATH)"
   ]
  },
  {
   "cell_type": "code",
   "execution_count": 7,
   "metadata": {},
   "outputs": [],
   "source": [
    "md = LanguageModelData.from_text_files(PATH, TEXT, **FILES, bs=64, bptt=70, min_freq=10)"
   ]
  },
  {
   "cell_type": "markdown",
   "metadata": {},
   "source": [
    "### Create the Model"
   ]
  },
  {
   "cell_type": "code",
   "execution_count": 8,
   "metadata": {},
   "outputs": [],
   "source": [
    "em_sz = 200\n",
    "nh = 500\n",
    "nl = 3"
   ]
  },
  {
   "cell_type": "code",
   "execution_count": 9,
   "metadata": {},
   "outputs": [],
   "source": [
    "opt_fn = partial(optim.Adam, betas=(0.7, 0.99))"
   ]
  },
  {
   "cell_type": "code",
   "execution_count": 10,
   "metadata": {},
   "outputs": [],
   "source": [
    "learner = md.get_model(opt_fn, em_sz, nh, nl,\n",
    "               dropouti=0.2, dropout=0.2, wdrop=0.4, dropoute=0.08, dropouth=0.2)\n",
    "learner.reg_fn = partial(seq2seq_reg, alpha=2, beta=1)\n",
    "learner.clip=0.3"
   ]
  },
  {
   "cell_type": "code",
   "execution_count": null,
   "metadata": {},
   "outputs": [],
   "source": [
    "learner.load_encoder('weights')"
   ]
  },
  {
   "cell_type": "markdown",
   "metadata": {},
   "source": [
    "### Train the Model"
   ]
  },
  {
   "cell_type": "code",
   "execution_count": 11,
   "metadata": {},
   "outputs": [
    {
     "data": {
      "application/vnd.jupyter.widget-view+json": {
       "model_id": "e67094639ddb4b0b8d57c140e0704278",
       "version_major": 2,
       "version_minor": 0
      },
      "text/html": [
       "<p>Failed to display Jupyter Widget of type <code>HBox</code>.</p>\n",
       "<p>\n",
       "  If you're reading this message in the Jupyter Notebook or JupyterLab Notebook, it may mean\n",
       "  that the widgets JavaScript is still loading. If this message persists, it\n",
       "  likely means that the widgets JavaScript library is either not installed or\n",
       "  not enabled. See the <a href=\"https://ipywidgets.readthedocs.io/en/stable/user_install.html\">Jupyter\n",
       "  Widgets Documentation</a> for setup instructions.\n",
       "</p>\n",
       "<p>\n",
       "  If you're reading this message in another frontend (for example, a static\n",
       "  rendering on GitHub or <a href=\"https://nbviewer.jupyter.org/\">NBViewer</a>),\n",
       "  it may mean that your frontend doesn't currently support widgets.\n",
       "</p>\n"
      ],
      "text/plain": [
       "HBox(children=(IntProgress(value=0, description='Epoch', max=1), HTML(value='')))"
      ]
     },
     "metadata": {},
     "output_type": "display_data"
    },
    {
     "name": "stdout",
     "output_type": "stream",
     "text": [
      "epoch      trn_loss   val_loss                              \n",
      "    0      4.967025   4.821035  \n",
      "\n"
     ]
    }
   ],
   "source": [
    "learner.fit(3e-3, 1, wds=1e-6, cycle_len=1)\n",
    "learner.save_encoder('weights')"
   ]
  },
  {
   "cell_type": "code",
   "execution_count": 12,
   "metadata": {},
   "outputs": [
    {
     "data": {
      "application/vnd.jupyter.widget-view+json": {
       "model_id": "be48553403f84d32aebc9bb23fe9d2e2",
       "version_major": 2,
       "version_minor": 0
      },
      "text/html": [
       "<p>Failed to display Jupyter Widget of type <code>HBox</code>.</p>\n",
       "<p>\n",
       "  If you're reading this message in the Jupyter Notebook or JupyterLab Notebook, it may mean\n",
       "  that the widgets JavaScript is still loading. If this message persists, it\n",
       "  likely means that the widgets JavaScript library is either not installed or\n",
       "  not enabled. See the <a href=\"https://ipywidgets.readthedocs.io/en/stable/user_install.html\">Jupyter\n",
       "  Widgets Documentation</a> for setup instructions.\n",
       "</p>\n",
       "<p>\n",
       "  If you're reading this message in another frontend (for example, a static\n",
       "  rendering on GitHub or <a href=\"https://nbviewer.jupyter.org/\">NBViewer</a>),\n",
       "  it may mean that your frontend doesn't currently support widgets.\n",
       "</p>\n"
      ],
      "text/plain": [
       "HBox(children=(IntProgress(value=0, description='Epoch', max=10), HTML(value='')))"
      ]
     },
     "metadata": {},
     "output_type": "display_data"
    },
    {
     "name": "stdout",
     "output_type": "stream",
     "text": [
      "epoch      trn_loss   val_loss                              \n",
      "    0      4.708063   4.527083  \n",
      "    1      4.627142   4.458598                              \n",
      "    2      4.582128   4.367992                              \n",
      "    3      4.509277   4.324723                              \n",
      "    4      4.499065   4.287951                              \n",
      "    5      4.455843   4.257252                              \n",
      "    6      4.465324   4.243248                              \n",
      "    7      4.403016   4.21553                               \n",
      "    8      4.436291   4.211142                              \n",
      "    9      4.383798   4.184051                              \n",
      "\n"
     ]
    }
   ],
   "source": [
    "learner.fit(3e-3, 5, wds=1e-6, cycle_len=2)\n",
    "learner.save_encoder('weights')"
   ]
  },
  {
   "cell_type": "code",
   "execution_count": 13,
   "metadata": {},
   "outputs": [
    {
     "data": {
      "application/vnd.jupyter.widget-view+json": {
       "model_id": "0280c557c2174c1fb12125feb8c6aa41",
       "version_major": 2,
       "version_minor": 0
      },
      "text/html": [
       "<p>Failed to display Jupyter Widget of type <code>HBox</code>.</p>\n",
       "<p>\n",
       "  If you're reading this message in the Jupyter Notebook or JupyterLab Notebook, it may mean\n",
       "  that the widgets JavaScript is still loading. If this message persists, it\n",
       "  likely means that the widgets JavaScript library is either not installed or\n",
       "  not enabled. See the <a href=\"https://ipywidgets.readthedocs.io/en/stable/user_install.html\">Jupyter\n",
       "  Widgets Documentation</a> for setup instructions.\n",
       "</p>\n",
       "<p>\n",
       "  If you're reading this message in another frontend (for example, a static\n",
       "  rendering on GitHub or <a href=\"https://nbviewer.jupyter.org/\">NBViewer</a>),\n",
       "  it may mean that your frontend doesn't currently support widgets.\n",
       "</p>\n"
      ],
      "text/plain": [
       "HBox(children=(IntProgress(value=0, description='Epoch', max=10), HTML(value='')))"
      ]
     },
     "metadata": {},
     "output_type": "display_data"
    },
    {
     "name": "stdout",
     "output_type": "stream",
     "text": [
      "epoch      trn_loss   val_loss                              \n",
      "    0      4.422339   4.190591  \n",
      "    1      4.37027    4.163475                              \n",
      "    2      4.393037   4.16837                               \n",
      "    3      4.356156   4.145999                              \n",
      "    4      4.386508   4.153205                              \n",
      "    5      4.337894   4.131939                              \n",
      "    6      4.368774   4.143419                              \n",
      "    7      4.331461   4.120325                              \n",
      "    8      4.366441   4.131748                              \n",
      "    9      4.321885   4.110778                              \n",
      "\n"
     ]
    }
   ],
   "source": [
    "learner.fit(3e-3, 5, wds=1e-6, cycle_len=2)\n",
    "learner.save_encoder('weights')"
   ]
  },
  {
   "cell_type": "code",
   "execution_count": 14,
   "metadata": {},
   "outputs": [
    {
     "data": {
      "application/vnd.jupyter.widget-view+json": {
       "model_id": "bd53cdf1af4f4cce94805e27daa0adbd",
       "version_major": 2,
       "version_minor": 0
      },
      "text/html": [
       "<p>Failed to display Jupyter Widget of type <code>HBox</code>.</p>\n",
       "<p>\n",
       "  If you're reading this message in the Jupyter Notebook or JupyterLab Notebook, it may mean\n",
       "  that the widgets JavaScript is still loading. If this message persists, it\n",
       "  likely means that the widgets JavaScript library is either not installed or\n",
       "  not enabled. See the <a href=\"https://ipywidgets.readthedocs.io/en/stable/user_install.html\">Jupyter\n",
       "  Widgets Documentation</a> for setup instructions.\n",
       "</p>\n",
       "<p>\n",
       "  If you're reading this message in another frontend (for example, a static\n",
       "  rendering on GitHub or <a href=\"https://nbviewer.jupyter.org/\">NBViewer</a>),\n",
       "  it may mean that your frontend doesn't currently support widgets.\n",
       "</p>\n"
      ],
      "text/plain": [
       "HBox(children=(IntProgress(value=0, description='Epoch', max=10), HTML(value='')))"
      ]
     },
     "metadata": {},
     "output_type": "display_data"
    },
    {
     "name": "stdout",
     "output_type": "stream",
     "text": [
      "epoch      trn_loss   val_loss                              \n",
      "    0      4.327815   4.112199  \n",
      "    1      4.314948   4.106339                              \n",
      "    2      4.326125   4.101321                              \n",
      "    3      4.301637   4.093352                              \n",
      "    4      4.278832   4.087898                              \n",
      "    5      4.281264   4.083559                              \n",
      "    6      4.278934   4.080408                              \n",
      "    7      4.275993   4.078458                              \n",
      "    8      4.267891   4.077152                              \n",
      "    9      4.262315   4.076191                              \n",
      "\n"
     ]
    }
   ],
   "source": [
    "learner.fit(1e-3, 1, wds=1e-6, cycle_len=10)\n",
    "learner.save_encoder('weights')"
   ]
  },
  {
   "cell_type": "code",
   "execution_count": 23,
   "metadata": {},
   "outputs": [
    {
     "data": {
      "application/vnd.jupyter.widget-view+json": {
       "model_id": "1e7c088d9ada4d5f97cf46a4ceeb1ac0",
       "version_major": 2,
       "version_minor": 0
      },
      "text/html": [
       "<p>Failed to display Jupyter Widget of type <code>HBox</code>.</p>\n",
       "<p>\n",
       "  If you're reading this message in the Jupyter Notebook or JupyterLab Notebook, it may mean\n",
       "  that the widgets JavaScript is still loading. If this message persists, it\n",
       "  likely means that the widgets JavaScript library is either not installed or\n",
       "  not enabled. See the <a href=\"https://ipywidgets.readthedocs.io/en/stable/user_install.html\">Jupyter\n",
       "  Widgets Documentation</a> for setup instructions.\n",
       "</p>\n",
       "<p>\n",
       "  If you're reading this message in another frontend (for example, a static\n",
       "  rendering on GitHub or <a href=\"https://nbviewer.jupyter.org/\">NBViewer</a>),\n",
       "  it may mean that your frontend doesn't currently support widgets.\n",
       "</p>\n"
      ],
      "text/plain": [
       "HBox(children=(IntProgress(value=0, description='Epoch'), HTML(value='')))"
      ]
     },
     "metadata": {},
     "output_type": "display_data"
    },
    {
     "name": "stdout",
     "output_type": "stream",
     "text": [
      "epoch      trn_loss   val_loss                              \n",
      "    0      4.261642   4.076662  \n",
      "    1      4.281069   4.076346                              \n",
      "    2      4.260958   4.076161                              \n",
      "    3      4.266041   4.076634                              \n",
      "    4      4.253239   4.076164                              \n",
      "    5      4.29051    4.085907                              \n",
      "    6      4.2932     4.084022                              \n",
      "    7      4.277769   4.079171                              \n",
      "    8      4.278889   4.078976                              \n",
      "    9      4.268984   4.074691                              \n",
      "    10     4.266975   4.073494                              \n",
      "    11     4.257127   4.069165                              \n",
      "    12     4.262243   4.068845                              \n",
      "    13     4.26747    4.066592                              \n",
      "    14     4.252213   4.064995                              \n",
      "    15     4.253332   4.06118                               \n",
      "    16     4.253634   4.060016                              \n",
      "    17     4.255398   4.058443                              \n",
      "    18     4.23951    4.055678                              \n",
      "    19     4.24075    4.053453                              \n",
      "    20     4.236368   4.051115                              \n",
      "    21     4.22794    4.049592                              \n",
      "    22     4.225798   4.048326                              \n",
      "    23     4.226489   4.046642                              \n",
      "    24     4.228363   4.046621                              \n",
      "    25     4.225521   4.043666                              \n",
      "    26     4.224384   4.043519                              \n",
      "    27     4.215493   4.041132                              \n",
      "    28     4.221342   4.040927                              \n",
      "    29     4.217501   4.040442                              \n",
      "    30     4.211472   4.037806                              \n",
      "    31     4.215823   4.035254                              \n",
      "    32     4.207901   4.034599                              \n",
      "    33     4.214396   4.034468                              \n",
      "    34     4.210995   4.032929                              \n",
      "    35     4.206119   4.031745                              \n",
      "    36     4.193691   4.030645                              \n",
      "    37     4.204462   4.029967                              \n",
      "    38     4.220741   4.029797                              \n",
      "    39     4.19182    4.028082                              \n",
      "    40     4.204501   4.027527                              \n",
      "    41     4.191357   4.02613                               \n",
      "    42     4.189588   4.027256                              \n",
      "    43     4.204419   4.025957                              \n",
      "    44     4.188252   4.022785                              \n",
      "    45     4.185013   4.022273                              \n",
      "    46     4.194799   4.02059                               \n",
      "    47     4.176893   4.019802                              \n",
      "    48     4.187729   4.020699                              \n",
      "    49     4.180804   4.019193                              \n",
      "    50     4.178737   4.017671                              \n",
      "    51     4.188106   4.017241                              \n",
      "    52     4.171056   4.016205                              \n",
      "    53     4.182362   4.015733                              \n",
      "    54     4.170927   4.014737                              \n",
      "    55     4.170093   4.015033                              \n",
      "    56     4.192418   4.014765                              \n",
      "    57     4.166116   4.013794                              \n",
      "    58     4.169945   4.012095                              \n",
      "    59     4.177855   4.012271                              \n",
      "    60     4.17384    4.011949                              \n",
      "    61     4.164535   4.011492                              \n",
      "    62     4.180538   4.010694                              \n",
      "    63     4.158939   4.010303                              \n",
      "    64     4.174567   4.009909                              \n",
      "    65     4.172666   4.008732                              \n",
      "    66     4.152994   4.008645                              \n",
      "    67     4.159205   4.007839                              \n",
      "    68     4.183924   4.007831                              \n",
      "    69     4.146874   4.006487                              \n",
      "    70     4.158245   4.007445                              \n",
      "    71     4.157568   4.006336                              \n",
      "    72     4.171789   4.006173                              \n",
      "    73     4.187621   4.006102                              \n",
      "    74     4.151758   4.005619                              \n",
      "    75     4.157774   4.005219                              \n",
      "    76     4.144669   4.004464                              \n",
      "    77     4.145855   4.004819                              \n",
      "    78     4.150662   4.004638                              \n",
      "    79     4.1456     4.003954                              \n",
      "    80     4.150353   4.003688                              \n",
      "    81     4.15865    4.004072                              \n",
      "    82     4.163633   4.003012                              \n",
      "    83     4.144677   4.003007                              \n",
      "    84     4.148939   4.00301                               \n",
      "    85     4.167912   4.003054                              \n",
      "    86     4.159243   4.002554                              \n",
      "    87     4.152489   4.003106                              \n",
      "    88     4.141233   4.002363                              \n",
      "    89     4.148716   4.00234                               \n",
      "    90     4.151146   4.002099                              \n",
      "    91     4.148457   4.002176                              \n",
      "    92     4.136122   4.002191                              \n",
      "    93     4.160522   4.002194                              \n",
      "    94     4.137937   4.002115                              \n",
      "    95     4.147211   4.001986                              \n",
      "    96     4.138952   4.001886                              \n",
      "    97     4.142423   4.002044                              \n",
      "    98     4.13205    4.001875                              \n",
      "    99     4.143393   4.001973                              \n",
      "\n"
     ]
    }
   ],
   "source": [
    "learner.fit(1e-3, 1, wds=1e-6, cycle_len=100)\n",
    "learner.save_encoder('weights')"
   ]
  },
  {
   "cell_type": "code",
   "execution_count": 24,
   "metadata": {},
   "outputs": [],
   "source": [
    "learner.save_encoder('weights')"
   ]
  },
  {
   "cell_type": "markdown",
   "metadata": {},
   "source": [
    "# Test"
   ]
  },
  {
   "cell_type": "code",
   "execution_count": 25,
   "metadata": {},
   "outputs": [],
   "source": [
    "import re\n",
    "\n",
    "def process(combined_comments):\n",
    "    \n",
    "    # Split the comments into individual comments.\n",
    "    comments = combined_comments.split(\"eoc\")\n",
    "    \n",
    "    # Remove unneeded words.\n",
    "    comments = [re.sub(\"<eos>\", \"\", comment) for comment in comments]\n",
    "    comments = [re.sub(\"soc\", \"\", comment) for comment in comments]\n",
    "    \n",
    "    # Fix punctuation.\n",
    "    comments = [re.sub(\" !\", \"!\", comment) for comment in comments]\n",
    "    comments = [re.sub(\" \\.\", \".\", comment) for comment in comments]\n",
    "    comments = [re.sub(\" ,\", \",\", comment) for comment in comments]\n",
    "    \n",
    "    # Separate out comments with multiple sentences in them.\n",
    "    all_comments = []    \n",
    "    for comment in comments:        \n",
    "        parts = comment.split(\". \")\n",
    "        parts = [part.capitalize() + \".\" for part in parts[:-1]] + [parts[-1].capitalize()]        \n",
    "        for part in parts:\n",
    "            all_comments.append(part)\n",
    "    comments = all_comments\n",
    "    \n",
    "    # Remove whitespace.\n",
    "    comments = [comment.lstrip() for comment in comments]\n",
    "    comments = [re.sub(' +', ' ', comment) for comment in comments]  \n",
    "    \n",
    "    # Remove bad comments.\n",
    "    comments = list(filter(None, comments))\n",
    "    comments = list(filter(lambda comment: comment[0] not in ['!', '?'], comments))\n",
    "    \n",
    "    # Fix split words.\n",
    "    comments = [re.sub(\" s\", \"'s\", comment) for comment in comments]\n",
    "    comments = [re.sub(\" 'm\", \"'m\", comment) for comment in comments]\n",
    "    comments = [re.sub(\" 'l\", \"'l\", comment) for comment in comments]\n",
    "    comments = [re.sub(\" 'd\", \"'d\", comment) for comment in comments]\n",
    "    comments = [re.sub(\" 'r\", \"'r\", comment) for comment in comments]\n",
    "    comments = [re.sub(\" ’r\", \"'r\", comment) for comment in comments]\n",
    "    comments = [re.sub(\" 's\", \"'s\", comment) for comment in comments]\n",
    "    comments = [re.sub(\" ’s\", \"'s\", comment) for comment in comments]\n",
    "    comments = [re.sub(\" n'\", \"n'\", comment) for comment in comments]\n",
    "    comments = [re.sub(\" 'v\", \"'v\", comment) for comment in comments]\n",
    "    \n",
    "    # Fix broken words.\n",
    "    comments = [re.sub(\"do nt\", \"dont\", comment) for comment in comments] \n",
    "    \n",
    "    # Fix random apostrophes.\n",
    "    comments = [re.sub(\"u's\", \"u s\", comment) for comment in comments] \n",
    "    comments = [re.sub(\"e's\", \"e s\", comment) for comment in comments] \n",
    "    comments = [re.sub(\"I's\", \"I s\", comment) for comment in comments]\n",
    "    comments = [re.sub(\"o's\", \"o s\", comment) for comment in comments]\n",
    "    comments = [re.sub(\"m's\", \"m s\", comment) for comment in comments]\n",
    "    \n",
    "    # Capitalize the first word.\n",
    "    comments = [comment.capitalize() for comment in comments] \n",
    "    \n",
    "    # Fix decapitalised.\n",
    "    comments = [re.sub(\" i \", \" I \", comment) for comment in comments] \n",
    "    comments = [re.sub(\" i'\", \" I'\", comment) for comment in comments] \n",
    "    \n",
    "    return comments"
   ]
  },
  {
   "cell_type": "code",
   "execution_count": 36,
   "metadata": {},
   "outputs": [],
   "source": [
    "spacy_tok = spacy.load('en')\n",
    "m=learner.model\n",
    "ss=\"\"\"soc\"\"\"\n",
    "s = [spacy_tok(ss)]\n",
    "t=TEXT.numericalize(s)"
   ]
  },
  {
   "cell_type": "code",
   "execution_count": 37,
   "metadata": {},
   "outputs": [],
   "source": [
    "# Set batch size to 1\n",
    "m[0].bs=1\n",
    "# Turn off dropout\n",
    "m.eval()\n",
    "# Reset hidden state\n",
    "m.reset()\n",
    "# Get predictions from model\n",
    "res,*_ = m(t)\n",
    "# Put the batch size back to what it was\n",
    "m[0].bs=64"
   ]
  },
  {
   "cell_type": "code",
   "execution_count": 58,
   "metadata": {},
   "outputs": [],
   "source": [
    "for i in range(10000):\n",
    "    \n",
    "    # Generate candidates from \n",
    "    candidates=res[-1].topk(5)[1]   \n",
    "    \n",
    "    # Keep polling for a new word until no <unk>.\n",
    "    n = 0\n",
    "    while n is 0:\n",
    "        next_word = random.choice(candidates)        \n",
    "        n = next_word.data[0]\n",
    "        \n",
    "    # Add the new word to the sentence.\n",
    "    ss = ss + \" \" + TEXT.vocab.itos[next_word.data[0]]\n",
    "    \n",
    "    # Poll the model again.\n",
    "    res,*_ = m(next_word[0].unsqueeze(0))\n",
    "    \n",
    "processed_ss = process(ss)"
   ]
  },
  {
   "cell_type": "code",
   "execution_count": 59,
   "metadata": {},
   "outputs": [],
   "source": [
    "def get_comment():\n",
    "    \n",
    "    for i in range(len(processed_ss)):    \n",
    "        yield processed_ss[i]    "
   ]
  },
  {
   "cell_type": "code",
   "execution_count": 60,
   "metadata": {},
   "outputs": [],
   "source": [
    "gc = get_comment()"
   ]
  },
  {
   "cell_type": "code",
   "execution_count": 68,
   "metadata": {},
   "outputs": [
    {
     "name": "stdout",
     "output_type": "stream",
     "text": [
      "=> I've heard it's a bit of the issue in this post and not even the original.\n",
      "=> But that's a lot more of the time I read this.\n",
      "=> Thanks op! :) I'll have to go get this \n",
      "=> .\n",
      "=> It is.\n",
      "=> I've been there, but it'seems like it doesn't have a good experience \n",
      "=> You aren't.\n",
      "=> The guy isn't a fucking idiot.\n",
      "=> He s a dick but you can be a little sad about that and he'll be the first \n",
      "=> Oh I do.\n",
      "=> It would be the only thing you would know to do in this world and not be able to do this \n",
      "=> That is an interesting post! I've got a few things.\n",
      "=> I'm sure they can be better.\n",
      "=> I dont have an issue but that is the most annoying way \n",
      "=> I think it was just an insult, I'm a guy \n",
      "=> But I do.\n",
      "=> You know what's wrong is this, it makes it look like they are trying and not the other guy who wasn't in it and it did not have the time of life \n",
      "=> .\n",
      "=> I have a lot.\n",
      "=> It doesn't'seem a lot to do with the fact I wasn't aware.\n"
     ]
    }
   ],
   "source": [
    "for i in range(20):\n",
    "    print (f\"=> {next(gc)}\")"
   ]
  },
  {
   "cell_type": "code",
   "execution_count": null,
   "metadata": {},
   "outputs": [],
   "source": []
  }
 ],
 "metadata": {
  "kernelspec": {
   "display_name": "Python 3",
   "language": "python",
   "name": "python3"
  },
  "language_info": {
   "codemirror_mode": {
    "name": "ipython",
    "version": 3
   },
   "file_extension": ".py",
   "mimetype": "text/x-python",
   "name": "python",
   "nbconvert_exporter": "python",
   "pygments_lexer": "ipython3",
   "version": "3.6.4"
  }
 },
 "nbformat": 4,
 "nbformat_minor": 2
}
